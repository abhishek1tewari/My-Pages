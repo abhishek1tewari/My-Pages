{
 "cells": [
  {
   "cell_type": "code",
   "execution_count": 2,
   "id": "c5fa15ff-b9c2-4aa9-97bc-9c3dd4e61d01",
   "metadata": {},
   "outputs": [
    {
     "data": {
      "application/vnd.jupyter.widget-view+json": {
       "model_id": "21b7a7f0682b4a98b91954aac136e9a9",
       "version_major": 2,
       "version_minor": 0
      },
      "text/plain": [
       "Text(value='', description='Name:')"
      ]
     },
     "metadata": {},
     "output_type": "display_data"
    },
    {
     "data": {
      "application/vnd.jupyter.widget-view+json": {
       "model_id": "ab1639d795dd4a42b10207fcb76c8087",
       "version_major": 2,
       "version_minor": 0
      },
      "text/plain": [
       "IntText(value=0, description='Age:')"
      ]
     },
     "metadata": {},
     "output_type": "display_data"
    },
    {
     "data": {
      "application/vnd.jupyter.widget-view+json": {
       "model_id": "a0924e88aad046dea501e978f7d6b4cf",
       "version_major": 2,
       "version_minor": 0
      },
      "text/plain": [
       "FloatText(value=0.0, description='Loan ₹:')"
      ]
     },
     "metadata": {},
     "output_type": "display_data"
    },
    {
     "data": {
      "application/vnd.jupyter.widget-view+json": {
       "model_id": "4df70000759746d59c1138296a9741f4",
       "version_major": 2,
       "version_minor": 0
      },
      "text/plain": [
       "FloatText(value=0.0, description='Rate %:')"
      ]
     },
     "metadata": {},
     "output_type": "display_data"
    },
    {
     "data": {
      "application/vnd.jupyter.widget-view+json": {
       "model_id": "e04a736c6507477f942bfbc2aaeb2f7e",
       "version_major": 2,
       "version_minor": 0
      },
      "text/plain": [
       "IntSlider(value=5, description='Years', max=30, min=1)"
      ]
     },
     "metadata": {},
     "output_type": "display_data"
    },
    {
     "data": {
      "application/vnd.jupyter.widget-view+json": {
       "model_id": "af1c9d27376849b0a78ee27860aabd47",
       "version_major": 2,
       "version_minor": 0
      },
      "text/plain": [
       "Button(button_style='success', description='Calculate EMI', style=ButtonStyle())"
      ]
     },
     "metadata": {},
     "output_type": "display_data"
    },
    {
     "data": {
      "application/vnd.jupyter.widget-view+json": {
       "model_id": "e0407cff02fb4d6e9728fcde9771e637",
       "version_major": 2,
       "version_minor": 0
      },
      "text/plain": [
       "Output()"
      ]
     },
     "metadata": {},
     "output_type": "display_data"
    }
   ],
   "source": [
    "import ipywidgets as widgets\n",
    "from IPython.display import display, clear_output, HTML\n",
    "\n",
    "# Input widgets\n",
    "name = widgets.Text(description=\"Name:\")\n",
    "age = widgets.IntText(description=\"Age:\")\n",
    "loan_amount = widgets.FloatText(description=\"Loan ₹:\")\n",
    "interest_rate = widgets.FloatText(description=\"Rate %:\")\n",
    "tenure_years = widgets.IntSlider(description=\"Years\", min=1, max=30, value=5)\n",
    "\n",
    "# Output and button\n",
    "output = widgets.Output()\n",
    "submit_button = widgets.Button(description=\"Calculate EMI\", button_style='success')\n",
    "\n",
    "# EMI calculation\n",
    "def calculate_emi(b):\n",
    "    with output:\n",
    "        clear_output()\n",
    "        try:\n",
    "            P = loan_amount.value\n",
    "            R = interest_rate.value / (12 * 100)  # Monthly interest\n",
    "            N = tenure_years.value * 12\n",
    "\n",
    "            if R > 0:\n",
    "                emi = (P * R * (1 + R)**N) / ((1 + R)**N - 1)\n",
    "            else:\n",
    "                emi = P / N\n",
    "\n",
    "            html = f\"\"\"\n",
    "            <h3>EMI Calculation Summary:</h3>\n",
    "            <p><b>Name:</b> {name.value}</p>\n",
    "            <p><b>Age:</b> {age.value} years</p>\n",
    "            <p><b>Loan Amount:</b> ₹{P:,.2f}</p>\n",
    "            <p><b>Interest Rate:</b> {interest_rate.value}%</p>\n",
    "            <p><b>Tenure:</b> {tenure_years.value} years</p>\n",
    "            <p style='color:green;'><b>Monthly EMI:</b> ₹{emi:,.2f}</p>\n",
    "            \"\"\"\n",
    "            display(HTML(html))\n",
    "        except:\n",
    "            display(HTML(\"<p style='color:red;'>Error in input. Please check your values.</p>\"))\n",
    "\n",
    "submit_button.on_click(calculate_emi)\n",
    "\n",
    "# Display interface\n",
    "display(name, age, loan_amount, interest_rate, tenure_years, submit_button, output)\n"
   ]
  },
  {
   "cell_type": "code",
   "execution_count": null,
   "id": "c8bd6e88-7b19-4e59-a371-cd192ded9ef0",
   "metadata": {},
   "outputs": [],
   "source": []
  }
 ],
 "metadata": {
  "kernelspec": {
   "display_name": "Python 3 (ipykernel)",
   "language": "python",
   "name": "python3"
  },
  "language_info": {
   "codemirror_mode": {
    "name": "ipython",
    "version": 3
   },
   "file_extension": ".py",
   "mimetype": "text/x-python",
   "name": "python",
   "nbconvert_exporter": "python",
   "pygments_lexer": "ipython3",
   "version": "3.12.4"
  }
 },
 "nbformat": 4,
 "nbformat_minor": 5
}
