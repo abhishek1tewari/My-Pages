{
 "cells": [
  {
   "cell_type": "code",
   "execution_count": 2,
   "id": "c5fa15ff-b9c2-4aa9-97bc-9c3dd4e61d01",
   "metadata": {},
   "outputs": [
    {
     "data": {
      "application/vnd.jupyter.widget-view+json": {
       "model_id": "ab6159e2fe334b79a8532204536428bc",
       "version_major": 2,
       "version_minor": 0
      },
      "text/plain": [
       "Text(value='', description='Name:')"
      ]
     },
     "metadata": {},
     "output_type": "display_data"
    },
    {
     "data": {
      "application/vnd.jupyter.widget-view+json": {
       "model_id": "09117ee0c86e4ceda2d5db000161987a",
       "version_major": 2,
       "version_minor": 0
      },
      "text/plain": [
       "IntText(value=0, description='Age:')"
      ]
     },
     "metadata": {},
     "output_type": "display_data"
    },
    {
     "data": {
      "application/vnd.jupyter.widget-view+json": {
       "model_id": "820a9ea97b0b4b93abec045b81c700d7",
       "version_major": 2,
       "version_minor": 0
      },
      "text/plain": [
       "FloatText(value=0.0, description='Loan ₹:')"
      ]
     },
     "metadata": {},
     "output_type": "display_data"
    },
    {
     "data": {
      "application/vnd.jupyter.widget-view+json": {
       "model_id": "fbcff65b48814622bb3b0b56551edf03",
       "version_major": 2,
       "version_minor": 0
      },
      "text/plain": [
       "FloatText(value=0.0, description='Rate %:')"
      ]
     },
     "metadata": {},
     "output_type": "display_data"
    },
    {
     "data": {
      "application/vnd.jupyter.widget-view+json": {
       "model_id": "dcda692367b74a26bf89c8ceafb11a6c",
       "version_major": 2,
       "version_minor": 0
      },
      "text/plain": [
       "IntSlider(value=5, description='Years', max=30, min=1)"
      ]
     },
     "metadata": {},
     "output_type": "display_data"
    },
    {
     "data": {
      "application/vnd.jupyter.widget-view+json": {
       "model_id": "bf2307c141414820a3439c07a562db48",
       "version_major": 2,
       "version_minor": 0
      },
      "text/plain": [
       "Button(button_style='success', description='Calculate EMI', style=ButtonStyle())"
      ]
     },
     "metadata": {},
     "output_type": "display_data"
    },
    {
     "data": {
      "application/vnd.jupyter.widget-view+json": {
       "model_id": "3638b65ca7454cf693c990fd2c3c93aa",
       "version_major": 2,
       "version_minor": 0
      },
      "text/plain": [
       "Output()"
      ]
     },
     "metadata": {},
     "output_type": "display_data"
    }
   ],
   "source": [
    "import ipywidgets as widgets\n",
    "from IPython.display import display, clear_output, HTML\n",
    "\n",
    "# Widgets for user input\n",
    "name = widgets.Text(description=\"Name:\")\n",
    "age = widgets.IntText(description=\"Age:\")\n",
    "loan_amount = widgets.FloatText(description=\"Loan ₹:\")\n",
    "interest_rate = widgets.FloatText(description=\"Rate %:\")\n",
    "tenure_years = widgets.IntSlider(description=\"Years\", min=1, max=30, value=5)\n",
    "\n",
    "# Button to trigger calculation\n",
    "submit_button = widgets.Button(description=\"Calculate EMI\", button_style='success')\n",
    "\n",
    "# Output display\n",
    "output = widgets.Output()\n",
    "\n",
    "# EMI Calculation Logic\n",
    "def calculate_emi(b):\n",
    "    with output:\n",
    "        clear_output()\n",
    "\n",
    "        # Inputs\n",
    "        principal = loan_amount.value\n",
    "        rate = interest_rate.value / (12 * 100)  # Monthly interest\n",
    "        months = tenure_years.value * 12\n",
    "\n",
    "        # EMI Formula\n",
    "        if rate > 0:\n",
    "            emi = (principal * rate * (1 + rate)**months) / ((1 + rate)**months - 1)\n",
    "        else:\n",
    "            emi = principal / months  # No interest case\n",
    "\n",
    "        # Display Result in HTML-like format\n",
    "        html_content = f\"\"\"\n",
    "        <h3>EMI Calculation Summary:</h3>\n",
    "        <p><strong>Name:</strong> {name.value}</p>\n",
    "        <p><strong>Age:</strong> {age.value} years</p>\n",
    "        <p><strong>Loan Amount:</strong> ₹{principal:,.2f}</p>\n",
    "        <p><strong>Interest Rate:</strong> {interest_rate.value}% per annum</p>\n",
    "        <p><strong>Tenure:</strong> {tenure_years.value} years</p>\n",
    "        <p><strong>Your Monthly EMI:</strong> ₹{emi:,.2f}</p>\n",
    "        \"\"\"\n",
    "        display(HTML(html_content))\n",
    "\n",
    "# Link the button to the function\n",
    "submit_button.on_click(calculate_emi)\n",
    "\n",
    "# Display widgets like a simple web form\n",
    "display(name, age, loan_amount, interest_rate, tenure_years, submit_button, output)\n"
   ]
  },
  {
   "cell_type": "code",
   "execution_count": null,
   "id": "c8bd6e88-7b19-4e59-a371-cd192ded9ef0",
   "metadata": {},
   "outputs": [],
   "source": []
  }
 ],
 "metadata": {
  "kernelspec": {
   "display_name": "Python 3 (ipykernel)",
   "language": "python",
   "name": "python3"
  },
  "language_info": {
   "codemirror_mode": {
    "name": "ipython",
    "version": 3
   },
   "file_extension": ".py",
   "mimetype": "text/x-python",
   "name": "python",
   "nbconvert_exporter": "python",
   "pygments_lexer": "ipython3",
   "version": "3.12.4"
  }
 },
 "nbformat": 4,
 "nbformat_minor": 5
}
